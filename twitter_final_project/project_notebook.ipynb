{
 "cells": [
  {
   "cell_type": "markdown",
   "id": "a1848ca2",
   "metadata": {},
   "source": [
    "# Intelligent System Tools\n",
    "<br>\n",
    "Natural Language Processing with Disaster Tweets <br>\n",
    "Predict which Tweets are about real disasters and which ones are not <br>\n",
    "<a href=\"https://www.kaggle.com/c/nlp-getting-started\">Link</a><br><br>\n",
    "\n",
    "Guinzburg Nathanael <br>\n",
    "Darhi Liron <br>\n",
    "Michael Godovsky<br>\n",
    "Khatib Rwad<br>"
   ]
  },
  {
   "cell_type": "code",
   "execution_count": null,
   "id": "ff9d1b41",
   "metadata": {},
   "outputs": [],
   "source": [
    "# numpy and pandas for data manipulation\n",
    "import numpy as np\n",
    "import pandas as pd \n",
    "pd.options.mode.chained_assignment = None # no warnings\n",
    "# matplotlib and seaborn for plotting\n",
    "import matplotlib.pyplot as plt\n",
    "import seaborn as sns\n",
    "# sklearn\n",
    "from sklearn.model_selection import train_test_split\n",
    "from sklearn.feature_extraction.text import TfidfVectorizer, CountVectorizer, TfidfTransformer\n",
    "from sklearn.pipeline import Pipeline\n",
    "from sklearn.linear_model import SGDClassifier, LogisticRegression\n",
    "from sklearn.metrics import classification_report\n",
    "from sklearn.svm import SVC",
    "from sklearn.neighbors import KNeighborsClassifier",
    "from sklearn.ensemble import RandomForestClassifier",
    "# import tensorflow, keras\n",
    "import tensorflow as tf\n",
    "import tensorflow_hub as hub\n",
    "from tensorflow import keras\n",
    "# import text_processing function\n",
    "import sys\n",
    "sys.path.insert(0, 'data/')\n",
    "from text_processing import text_processing"
   ]
  },
  {
   "cell_type": "markdown",
   "id": "2d63a241",
   "metadata": {},
   "source": [
    "## Load Data\n",
    "Load data using `read_csv()`"
   ]
  },
  {
   "cell_type": "code",
   "execution_count": null,
   "id": "db117a98",
   "metadata": {},
   "outputs": [],
   "source": [
    "# reading in the CSV files using the pandas read_csv function. \n",
    "# we have also dropped the id column from the train set as we won’t need this for training the model.\n",
    "train = pd.read_csv('./data/train.csv').drop('id', axis=1)\n",
    "test = pd.read_csv('./data/test.csv')\n",
    "ID = test['id']\n",
    "test.drop('id', axis=1)\n",
    "test['target']=''\n ",
    "test.head()",
    
   ]
  },
  {
   "cell_type": "markdown",
   "id": "a68fbe4a",
   "metadata": {},
   "source": [
    "## Data Preprocessing\n",
    "Using the following text preprocessing methods: <br>\n",
    "[1] Format text: correct spelling, remove emojis, and remove stop_words <br>\n",
    "[2] Format keyword: fill missing keywords for certain tweets following specific scenarios <br>\n",
    "[3] Format location: fill missing locations for certain tweets following specific scenarios <br>\n",
    "\n",
    "** For deatils per each scenario, please follow the `text_processing` documentation\n",
    "\n",
    "### Scikit-pipeline\n",
    "Next, we will create a scikit-pipeline with following methods: <br>\n",
    "[1] `CountVectorizer()` - split data into tokens, or individual words, count the frequency in which each word appears in the text, and then represent theses counts as a sparse matrix <br>\n",
    "[2] `TfidfTransformer()` - apply a weightning to the word counts produced by `CountVectorizer()`, this weightning is to scale down impact of very frequently occuring words in the text <br>\n",
    "[3] `SGDClassifier()` - generally regarded as one of the best text classification algorithms"
   ]
  },
  {
   "cell_type": "code",
   "execution_count": null,
   "id": "d94516d0",
   "metadata": {},
   "outputs": [],
   "source": [
    "# train_clean = text_processing(train)\n",
    "# test_clean = text_processing(test)\n",
    "# train_clean.to_csv('train_clean.csv', index=False)\n",
    "# test_clean.to_csv('test_clean.csv', index=False)\n",
    "train_clean = pd.read_csv('./data/after_preprocessing.csv')"
   ]
  },
  {
   "cell_type": "code",
   "execution_count": null,
   "id": "4b1efe24",
   "metadata": {},
   "outputs": [],
   "source": [
    "# searching for duplicated tweets with different target and removing them\n",
    "df_mislabeled = train_clean.groupby(['text']).nunique().sort_values(by='target', ascending=False)\n",
    "df_mislabeled = df_mislabeled[df_mislabeled['target'] > 1]['target']\n",
    "train_clean = train_clean[~train_clean['text'].isin(df_mislabeled.index.tolist())]"
   ]
  },
  {
   "cell_type": "code",
   "execution_count": null,
   "id": "8e724dc7",
   "metadata": {},
   "outputs": [],
   "source": [
    "# split the train data into a training and test set\n",
    "X_train, X_test, y_train, y_test = train_test_split(train_clean['text'], train_clean['target'], test_size=0.1, random_state=0)"
   ]
  },
  {
   "cell_type": "code",
   "execution_count": null,
   "id": "d464017b",
   "metadata": {},
   "outputs": [],
   "source": [
    "# ML pipeline\n",
    "pipeline_sgd = Pipeline([\n",
    "    ('vect', CountVectorizer()),\n",
    "    ('tfidf', TfidfTransformer()),\n",
    "    ('nb', SGDClassifier())\n",
    "])\n",
    "model = pipeline_sgd.fit(X_train, y_train)"
   ]
  },
  {
   "cell_type": "code",
   "execution_count": null,
   "id": "64c3786d",
   "metadata": {},
   "outputs": [],
   "source": [
    "y_predict = model.predict(X_test)\n",
    "print(classification_report(y_test, y_predict))"
   ]
  },
  {
   "cell_type": "markdown",
   "id": "2632d63f",
   "metadata": {},
   "source": [
    "## Submission"
   ]
  },
  {
   "cell_type": "code",
   "execution_count": null,
   "id": "2353df5e",
   "metadata": {},
   "outputs": [],
   "source": [
    "submission_test_clean = test_clean.copy()\n",
    "submission_test_clean = submission_test_clean['text']\n",
    "submission_test_pred = model.predict(submission_test_clean)"
   ]
  },
  {
   "cell_type": "code",
   "execution_count": null,
   "id": "27e84e97",
   "metadata": {},
   "outputs": [],
   "source": [
    "test.insert(loc = 0, column = "id", value = ID)\n",
    "id_col = test['id']\n",
    "submission_df_1 = pd.DataFrame({\"id\": id_col,\n",
    "                               \"target\": submission_test_pred})\n",
    "submission_df_1.head()"
   ]
  },
  {
   "cell_type": "code",
   "execution_count": null,
   "id": "9150eb34",
   "metadata": {},
   "outputs": [],
   "source": [
    "submission_df_1.to_csv('submission_1.csv', index=False)"
   ]
  }
 ],
 "metadata": {
  "kernelspec": {
   "display_name": "Python 3",
   "language": "python",
   "name": "python3"
  },
  "language_info": {
   "codemirror_mode": {
    "name": "ipython",
    "version": 3
   },
   "file_extension": ".py",
   "mimetype": "text/x-python",
   "name": "python",
   "nbconvert_exporter": "python",
   "pygments_lexer": "ipython3",
   "version": "3.8.8"
  }
 },
 "nbformat": 4,
 "nbformat_minor": 5
}
